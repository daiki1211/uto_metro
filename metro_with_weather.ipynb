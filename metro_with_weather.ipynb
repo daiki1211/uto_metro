{
 "cells": [
  {
   "cell_type": "code",
   "execution_count": null,
   "id": "54627144",
   "metadata": {},
   "outputs": [],
   "source": [
    "import pandas as pd\n",
    "import warnings\n",
    "import matplotlib.pyplot as plt\n",
    "\n",
    "warnings.simplefilter('ignore')"
   ]
  },
  {
   "cell_type": "code",
   "execution_count": null,
   "id": "b5040976",
   "metadata": {},
   "outputs": [],
   "source": [
    "metro_file = './202504-Nakamozu-OD.csv'\n",
    "weather_file = './sakai_weather.csv'\n",
    "\n",
    "df_metro = pd.read_csv(metro_file, encoding=\"shift-jis\")\n",
    "df_weather = pd.read_csv(weather_file, encoding=\"shift-jis\")\n",
    "\n",
    "#index追加\n",
    "df_metro['data_number'] = df_metro.index\n",
    "\n",
    "#:00を除去\n",
    "df_metro['arrival_station_time'] = df_metro['arrival_station_time'].str.replace(':00', '')\n",
    "df_metro['depature_station_time'] = df_metro['depature_station_time'].str.replace(':00', '')\n",
    "\n",
    "#日のみをintで表記+:00の辻褄合わせ\n",
    "date_iter = 1\n",
    "while(date_iter <= 30):\n",
    "    date_str = str(date_iter)\n",
    "    \n",
    "    if (date_iter < 10):\n",
    "        date_str = '0' + date_str\n",
    "    \n",
    "    #辻褄合わせで使用\n",
    "    time_str = date_str\n",
    "    \n",
    "    date_str = '2025-04-' + date_str\n",
    "\n",
    "    df_metro.replace(date_str, date_iter, inplace=True)\n",
    "    \n",
    "    #辻褄合わせ\n",
    "    if (date_iter <= 24):\n",
    "        df_metro.replace(time_str, time_str + ':00', inplace=True)\n",
    "\n",
    "    date_iter += 1"
   ]
  },
  {
   "cell_type": "code",
   "execution_count": null,
   "id": "d5bfd77d",
   "metadata": {},
   "outputs": [],
   "source": [
    "#なかもずから出発したものだけを抽出\n",
    "df_depature = df_metro[df_metro['depature_station'] == 'なかもず']"
   ]
  },
  {
   "cell_type": "code",
   "execution_count": null,
   "id": "f34ea4c0",
   "metadata": {},
   "outputs": [],
   "source": [
    "#t-1時30分～t時29分まではt時の天気を参照にするため、参照時間「rainy_time」を追加\n",
    "hour_iter = 1\n",
    "list_num = 0\n",
    "\n",
    "dflist_for_rainy_time = []\n",
    "dflist_for_rainy_time.append(pd.DataFrame(df_depature['depature_station_time'].str.contains('初期値を入力しているだけです')))\n",
    "while(hour_iter <= 24):\n",
    "    dflist_for_rainy_time.append(pd.DataFrame(df_depature['depature_station_time'].str.contains('初期値を入力しているだけです')))\n",
    "\n",
    "    hour_str = str(hour_iter) + ':'\n",
    "    \n",
    "    if (hour_iter < 10):\n",
    "        hour_str = '0' + hour_str\n",
    "\n",
    "    for ten_minute in range(6):\n",
    "        ten_minute_str = str(ten_minute)\n",
    "        use_hour_str = hour_str + ten_minute_str\n",
    "\n",
    "        #30分を越したら次の時間に保存場所を切り替える\n",
    "        if (ten_minute == 3):\n",
    "            dflist_for_rainy_time[list_num].replace(True, hour_iter, inplace=True)\n",
    "            dflist_for_rainy_time[list_num].replace(False, 0, inplace=True)\n",
    "\n",
    "            list_num += 1\n",
    "\n",
    "        dflist_for_rainy_time[list_num]['depature_station_time'] += df_depature['depature_station_time'].str.contains(use_hour_str)\n",
    "\n",
    "    \n",
    "    if (hour_iter == 24):\n",
    "        dflist_for_rainy_time[list_num].replace(True, hour_iter, inplace=True)\n",
    "        dflist_for_rainy_time[list_num].replace(False, 0, inplace=True)\n",
    "           \n",
    "\n",
    "    hour_iter += 1\n",
    "    "
   ]
  },
  {
   "cell_type": "code",
   "execution_count": null,
   "id": "1e9af753",
   "metadata": {},
   "outputs": [],
   "source": [
    "#先ほどのリストをdf_departureに取り込み\n",
    "check = 0\n",
    "for df_temporary in dflist_for_rainy_time:\n",
    "    if (check == 0):\n",
    "        df_depature['rainy_time'] = df_temporary['depature_station_time']\n",
    "\n",
    "    df_depature['rainy_time'] += df_temporary['depature_station_time']\n",
    "\n",
    "    check += 1"
   ]
  },
  {
   "cell_type": "code",
   "execution_count": null,
   "id": "021d3630",
   "metadata": {},
   "outputs": [],
   "source": [
    "#日ごとに分けてリストに格納(日ごとにわける弊害で0のrainy_timeが参照不可)\n",
    "df_depature_datelist = []\n",
    "\n",
    "date_iter = 1\n",
    "while (date_iter <= 30):\n",
    "    df_depature_datelist.append(df_depature[df_depature['data_date'] == date_iter])\n",
    "\n",
    "    date_iter += 1"
   ]
  },
  {
   "cell_type": "code",
   "execution_count": null,
   "id": "a73938a8",
   "metadata": {},
   "outputs": [],
   "source": [
    "#rainy_time毎の利用者数をdf_weatherに記録(rainy_timeが0のものは省かれている)\n",
    "weather_index = 0\n",
    "day = -1\n",
    "while (weather_index < len(df_weather)):\n",
    "    time = weather_index % 24 + 1\n",
    "    if (time == 1):\n",
    "        day += 1\n",
    "    \n",
    "    size = len(df_depature_datelist[day][df_depature_datelist[day]['rainy_time'] == time])\n",
    "\n",
    "    df_weather.iat[weather_index, 5] = size\n",
    "\n",
    "    weather_index += 1\n",
    "\n",
    "#columns書き換え\n",
    "df_weather.rename(columns={'均質番号':'降水量を参考にした利用者数'}, inplace=True)"
   ]
  },
  {
   "cell_type": "markdown",
   "id": "51cb98b2",
   "metadata": {},
   "source": [
    "以下は、プロットとデータのcsv化のコード"
   ]
  },
  {
   "cell_type": "code",
   "execution_count": null,
   "id": "3e735829",
   "metadata": {},
   "outputs": [],
   "source": [
    "#プロット用の「日時」作成\n",
    "df_weather['日時'] = df_weather['日'].astype(str) + '-' + df_weather['時'].astype(str)"
   ]
  },
  {
   "cell_type": "code",
   "execution_count": null,
   "id": "f9f5bcd0",
   "metadata": {},
   "outputs": [],
   "source": [
    "#df_weatherをプロット(全体見る用)\n",
    "#降水量があるところは青それ以外は緑\n",
    "colors = df_weather['降水量(mm)'].apply(lambda x: 'blue' if (x > 0) else 'green')\n",
    "\n",
    "#プロット\n",
    "plt.figure(figsize=(30,8))\n",
    "plt.bar(df_weather['日時'], df_weather['降水量を参考にした利用者数'], color=colors)\n",
    "ax = plt.gca()\n",
    "ax.axes.xaxis.set_visible(False)\n",
    "plt.xlabel('')\n",
    "plt.ylabel('')\n",
    "plt.title('')\n",
    "plt.show()"
   ]
  },
  {
   "cell_type": "code",
   "execution_count": null,
   "id": "31548880",
   "metadata": {},
   "outputs": [],
   "source": [
    "#df_weatherをプロット(一部可視化その1)\n",
    "mask1 = (df_weather['日'] >= 21) & (df_weather['日'] <= 25)\n",
    "df_weather_filtered1 = df_weather.loc[mask1]\n",
    "\n",
    "#降水量があるところは青それ以外は緑\n",
    "colors = df_weather_filtered1['降水量(mm)'].apply(lambda x: 'blue' if (x > 0) else 'green')\n",
    "\n",
    "plt.figure(figsize=(30,8))\n",
    "plt.xticks(rotation=45, ha='right')\n",
    "plt.bar(df_weather_filtered1['日時'], df_weather_filtered1['降水量を参考にした利用者数'], color=colors)\n",
    "plt.xlabel('')\n",
    "plt.ylabel('')\n",
    "plt.show()"
   ]
  },
  {
   "cell_type": "code",
   "execution_count": null,
   "id": "24b87136",
   "metadata": {},
   "outputs": [],
   "source": [
    "#df_weatherをプロット(一部可視化その2)\n",
    "mask2 = (df_weather['日'] >= 7) & (df_weather['日'] <= 11)\n",
    "df_weather_filtered2 = df_weather.loc[mask2]\n",
    "\n",
    "#降水量があるところは青それ以外は緑\n",
    "colors = df_weather_filtered2['降水量(mm)'].apply(lambda x: 'blue' if (x > 0) else 'green')\n",
    "\n",
    "plt.figure(figsize=(30,8))\n",
    "plt.xticks(rotation=45, ha='right')\n",
    "plt.bar(df_weather_filtered2['日時'], df_weather_filtered2['降水量を参考にした利用者数'], color=colors)\n",
    "plt.xlabel('')\n",
    "plt.ylabel('')\n",
    "plt.show()"
   ]
  },
  {
   "cell_type": "code",
   "execution_count": null,
   "id": "5e2dcf7f",
   "metadata": {},
   "outputs": [],
   "source": [
    "#df_weatherをプロット(一部可視化その3)\n",
    "mask3 = ((df_weather['日'] % 7) == 4)\n",
    "df_weather_filtered3 = df_weather.loc[mask3]\n",
    "\n",
    "#降水量があるところは青それ以外は緑\n",
    "colors = df_weather_filtered3['降水量(mm)'].apply(lambda x: 'blue' if (x > 0) else 'green')\n",
    "\n",
    "plt.figure(figsize=(30,8))\n",
    "plt.xticks(rotation=45, ha='right')\n",
    "plt.bar(df_weather_filtered3['日時'], df_weather_filtered3['降水量を参考にした利用者数'], color=colors)\n",
    "plt.xlabel('')\n",
    "plt.ylabel('')\n",
    "plt.show()"
   ]
  },
  {
   "cell_type": "code",
   "execution_count": null,
   "id": "f1f08b76",
   "metadata": {},
   "outputs": [],
   "source": [
    "#df_weatherをプロット(一部可視化その4)\n",
    "mask4 = ((df_weather['日'] % 7) == 6)\n",
    "df_weather_filtered4 = df_weather.loc[mask4]\n",
    "\n",
    "#降水量があるところは青それ以外は緑\n",
    "colors = df_weather_filtered4['降水量(mm)'].apply(lambda x: 'blue' if (x > 0) else 'green')\n",
    "\n",
    "plt.figure(figsize=(30,8))\n",
    "plt.xticks(rotation=45, ha='right')\n",
    "plt.bar(df_weather_filtered4['日時'], df_weather_filtered4['降水量を参考にした利用者数'], color=colors)\n",
    "plt.xlabel('')\n",
    "plt.ylabel('')\n",
    "plt.show()"
   ]
  },
  {
   "cell_type": "code",
   "execution_count": null,
   "id": "e875bf7d",
   "metadata": {},
   "outputs": [],
   "source": [
    "#降水量がある部分のデータを抽出\n",
    "df_rainy = df_weather[df_weather['降水量(mm)'] > 0]\n",
    "df_rainy.reset_index(inplace=True, drop=True)"
   ]
  },
  {
   "cell_type": "code",
   "execution_count": null,
   "id": "08e71fb3",
   "metadata": {},
   "outputs": [],
   "source": [
    "#df_weatherをcsvファイルとして取り出す\n",
    "df_weather.to_csv('sakai_weather_with_usernum.csv', index=False)"
   ]
  },
  {
   "cell_type": "code",
   "execution_count": null,
   "id": "33c81f80",
   "metadata": {},
   "outputs": [],
   "source": [
    "#df_rainyをcsvファイルとして取り出す\n",
    "df_rainy.to_csv('sakai_rainy_with_user.csv', index=False)"
   ]
  },
  {
   "cell_type": "markdown",
   "id": "df314da6",
   "metadata": {},
   "source": [
    "# 以下は試行錯誤で使ったセル"
   ]
  },
  {
   "cell_type": "code",
   "execution_count": null,
   "id": "d1b1ef50",
   "metadata": {},
   "outputs": [],
   "source": [
    "df_weather.head(10)"
   ]
  },
  {
   "cell_type": "code",
   "execution_count": null,
   "id": "ebf0bc8f",
   "metadata": {},
   "outputs": [],
   "source": [
    "print(df_depature_datelist[0][df_depature_datelist[0]['rainy_time'] == 0])"
   ]
  },
  {
   "cell_type": "code",
   "execution_count": null,
   "id": "2431751f",
   "metadata": {},
   "outputs": [],
   "source": [
    "dflist_for_rainy_time[23][dflist_for_rainy_time[7]['depature_station_time'] == 22].head(10)"
   ]
  },
  {
   "cell_type": "code",
   "execution_count": null,
   "id": "3e3010c2",
   "metadata": {},
   "outputs": [],
   "source": [
    "dflist_for_rainy_time[8].head(10)"
   ]
  },
  {
   "cell_type": "code",
   "execution_count": null,
   "id": "1ad8bc40",
   "metadata": {},
   "outputs": [],
   "source": [
    "for i in range(len(dflist_for_rainy_time)):\n",
    "    print(len(dflist_for_rainy_time[i]))"
   ]
  },
  {
   "cell_type": "code",
   "execution_count": null,
   "id": "6e8d708d",
   "metadata": {},
   "outputs": [],
   "source": [
    "print(df_depature['depature_station_time'].str.contains('10:2') + df_depature['depature_station_time'].str.contains('10:3'))"
   ]
  },
  {
   "cell_type": "code",
   "execution_count": null,
   "id": "5da761e4",
   "metadata": {},
   "outputs": [],
   "source": [
    "df_depature.head(25)"
   ]
  },
  {
   "cell_type": "code",
   "execution_count": null,
   "id": "bb7b4cfc",
   "metadata": {},
   "outputs": [],
   "source": [
    "#日ごとに分けてリストに格納\n",
    "df_depature_datelist = []\n",
    "\n",
    "date_iter = 1\n",
    "while (date_iter <= 30):\n",
    "    df_depature_datelist.append(df_depature[df_depature['data_date'] == date_iter])\n",
    "\n",
    "    date_iter += 1"
   ]
  },
  {
   "cell_type": "code",
   "execution_count": null,
   "id": "6b5e9ab1",
   "metadata": {},
   "outputs": [],
   "source": [
    "df_tameshi = df_depature_datelist[0]\n",
    "\n",
    "df_tameshi['rainy_time'] = df_tameshi['depature_station_time'].str.contains('16:23')\n",
    "df_tameshi2 = df_tameshi['depature_station_time'].str.contains('16:22')\n",
    "df_tameshi.replace(True, 15, inplace=True)\n",
    "df_tameshi.replace(False, 0, inplace=True)\n",
    "\n",
    "#df_tameshi2.replace(True, 15, inplace=True)\n",
    "#df_tameshi2.replace(False, 0, inplace=True)\n",
    "\n",
    "df_tameshi['rainy_time'] += df_tameshi2"
   ]
  },
  {
   "cell_type": "code",
   "execution_count": null,
   "id": "2dfb0721",
   "metadata": {},
   "outputs": [],
   "source": [
    "df_tameshi['rainy_time'] += df_tameshi2"
   ]
  },
  {
   "cell_type": "code",
   "execution_count": null,
   "id": "6642c23c",
   "metadata": {},
   "outputs": [],
   "source": [
    "df_tameshi.head(25)"
   ]
  },
  {
   "cell_type": "code",
   "execution_count": null,
   "id": "2c872a40",
   "metadata": {},
   "outputs": [],
   "source": [
    "for i in range(len(df_depature_datelist)):\n",
    "    print(i+1, len(df_depature_datelist[i]))"
   ]
  },
  {
   "cell_type": "code",
   "execution_count": null,
   "id": "10a72f85",
   "metadata": {},
   "outputs": [],
   "source": [
    "df_depature_datelist[29].head(25)"
   ]
  },
  {
   "cell_type": "code",
   "execution_count": null,
   "id": "73a664ad",
   "metadata": {},
   "outputs": [],
   "source": [
    "df_rainy = df_weather[df_weather['降水量(mm)'] > 0]\n",
    "df_rainy.reset_index(inplace=True, drop=True)"
   ]
  },
  {
   "cell_type": "code",
   "execution_count": null,
   "id": "7fab7f51",
   "metadata": {},
   "outputs": [],
   "source": [
    "print(df_rainy.loc[0, ['日', '時']].tolist())"
   ]
  },
  {
   "cell_type": "code",
   "execution_count": null,
   "id": "16a06c0c",
   "metadata": {},
   "outputs": [],
   "source": [
    "print(df_rainy.loc[:, ['日', '時']])"
   ]
  },
  {
   "cell_type": "code",
   "execution_count": null,
   "id": "66b98c55",
   "metadata": {},
   "outputs": [],
   "source": [
    "df_rainy.head(40)"
   ]
  },
  {
   "cell_type": "code",
   "execution_count": null,
   "id": "9ac6a11a",
   "metadata": {},
   "outputs": [],
   "source": [
    "print(type(df_metro.loc[0]['depature_station_time']))\n",
    "print(type(df_weather.loc[0]['降水量(mm)']))"
   ]
  },
  {
   "cell_type": "code",
   "execution_count": null,
   "id": "1b5f3a44",
   "metadata": {},
   "outputs": [],
   "source": [
    "df_metro.head(10)"
   ]
  },
  {
   "cell_type": "code",
   "execution_count": null,
   "id": "740be1c4",
   "metadata": {},
   "outputs": [],
   "source": [
    "print(df_weather[df_weather['日'] == 2])"
   ]
  },
  {
   "cell_type": "code",
   "execution_count": null,
   "id": "b15f9668",
   "metadata": {},
   "outputs": [],
   "source": [
    "df_weather.head(10)"
   ]
  }
 ],
 "metadata": {
  "kernelspec": {
   "display_name": "BERT_challenge",
   "language": "python",
   "name": "python3"
  },
  "language_info": {
   "codemirror_mode": {
    "name": "ipython",
    "version": 3
   },
   "file_extension": ".py",
   "mimetype": "text/x-python",
   "name": "python",
   "nbconvert_exporter": "python",
   "pygments_lexer": "ipython3",
   "version": "3.11.10"
  }
 },
 "nbformat": 4,
 "nbformat_minor": 5
}
